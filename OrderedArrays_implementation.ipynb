{
  "nbformat": 4,
  "nbformat_minor": 0,
  "metadata": {
    "colab": {
      "provenance": [],
      "authorship_tag": "ABX9TyOv9URzz9oiJiiaaYNPI1CS",
      "include_colab_link": true
    },
    "kernelspec": {
      "name": "python3",
      "display_name": "Python 3"
    },
    "language_info": {
      "name": "python"
    }
  },
  "cells": [
    {
      "cell_type": "markdown",
      "metadata": {
        "id": "view-in-github",
        "colab_type": "text"
      },
      "source": [
        "<a href=\"https://colab.research.google.com/github/Swollenowl95/ml_internship/blob/main/OrderedArrays_implementation.ipynb\" target=\"_parent\"><img src=\"https://colab.research.google.com/assets/colab-badge.svg\" alt=\"Open In Colab\"/></a>"
      ]
    },
    {
      "cell_type": "code",
      "execution_count": 2,
      "metadata": {
        "id": "pTjGluH4u39z"
      },
      "outputs": [],
      "source": [
        "import numpy as np\n",
        "class OrderedArray:\n",
        "  def __init__(self,capacity):\n",
        "    self.capacity=capacity\n",
        "    self.last_position = -1\n",
        "    self.values = np.empty(self.capacity,dtype=int)\n",
        "\n",
        "  def print(self):\n",
        "    if self.last_position == -1:\n",
        "      print('the array is empty')\n",
        "    else:\n",
        "      for i in range(self.last_position + 1):\n",
        "        print(i, ' - ', self.values[i])\n",
        "\n",
        "  def insert(self, value):\n",
        "    if self.last_position == self.capacity - 1:\n",
        "      print('Maximum capacity has been reached!')\n",
        "      return\n",
        "\n",
        "    position = 0\n",
        "    for i in range(self.last_position + 1):\n",
        "      position = i\n",
        "      if value < self.values[i]:\n",
        "        break\n",
        "      if i == self.last_position:\n",
        "        position = i + 1\n",
        "\n",
        "    x = self.last_position\n",
        "    while x >= position:\n",
        "      self.values[x + 1] = self.values[x]\n",
        "      x -= 1\n",
        "\n",
        "    self.values[x + 1] = value\n",
        "    self.last_position += 1"
      ]
    },
    {
      "cell_type": "code",
      "source": [
        "array = OrderedArray(10)\n",
        "array.print()"
      ],
      "metadata": {
        "colab": {
          "base_uri": "https://localhost:8080/"
        },
        "id": "vwGvf2SCd5nl",
        "outputId": "f76fc77d-c9fa-42fd-8b90-1390fb6ea972"
      },
      "execution_count": 3,
      "outputs": [
        {
          "output_type": "stream",
          "name": "stdout",
          "text": [
            "the array is empty\n"
          ]
        }
      ]
    },
    {
      "cell_type": "code",
      "source": [
        "array.insert(6)\n",
        "array.print()"
      ],
      "metadata": {
        "colab": {
          "base_uri": "https://localhost:8080/"
        },
        "id": "nMPFjN34ekli",
        "outputId": "572c2597-7d72-4e20-c263-0279d377a736"
      },
      "execution_count": 4,
      "outputs": [
        {
          "output_type": "stream",
          "name": "stdout",
          "text": [
            "0  -  6\n"
          ]
        }
      ]
    }
  ]
}