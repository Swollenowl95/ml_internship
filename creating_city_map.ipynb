{
  "nbformat": 4,
  "nbformat_minor": 0,
  "metadata": {
    "colab": {
      "provenance": [],
      "authorship_tag": "ABX9TyO92TK91R9tDMwACx07cm1F",
      "include_colab_link": true
    },
    "kernelspec": {
      "name": "python3",
      "display_name": "Python 3"
    },
    "language_info": {
      "name": "python"
    }
  },
  "cells": [
    {
      "cell_type": "markdown",
      "metadata": {
        "id": "view-in-github",
        "colab_type": "text"
      },
      "source": [
        "<a href=\"https://colab.research.google.com/github/Swollenowl95/ml_internship/blob/main/creating_city_map.ipynb\" target=\"_parent\"><img src=\"https://colab.research.google.com/assets/colab-badge.svg\" alt=\"Open In Colab\"/></a>"
      ]
    },
    {
      "cell_type": "code",
      "execution_count": 10,
      "metadata": {
        "id": "6LcZCD8KM_Yl"
      },
      "outputs": [],
      "source": [
        "class vertex:\n",
        "\n",
        "  def __init__(self, label, distance_objective):\n",
        "    self.label = label\n",
        "    self.visited = False\n",
        "    self.distance_objective = distance_objective\n",
        "    self.adjacent = []\n",
        "\n",
        "  def add_adjacent(self, adjacent):\n",
        "    self.adjacent.append(adjacent)\n",
        "\n",
        "  def print_adjacent(self):\n",
        "    for i in self.adjacent:\n",
        "      print(i.vertex.label, i.cost)\n",
        "\n"
      ]
    },
    {
      "cell_type": "code",
      "source": [
        "class adjacent:\n",
        "  def __init__(self, vertex, cost):\n",
        "    self.vertex = vertex\n",
        "    self.cost = cost"
      ],
      "metadata": {
        "id": "01aF__lZPJd0"
      },
      "execution_count": 11,
      "outputs": []
    },
    {
      "cell_type": "code",
      "source": [
        "class graph:\n",
        "  arad = vertex(\"Arad\", 366)\n",
        "  zerind = vertex(\"Zerind\", 374)\n",
        "  oradea = vertex(\"Oradea\", 380)\n",
        "  sibiu = vertex(\"Sibiu\", 253)\n",
        "  timisoara = vertex(\"Timisoara\", 329)\n",
        "  lugoj = vertex(\"Lugoj\", 244)\n",
        "  mehadia = vertex(\"Mehadia\", 241)\n",
        "  dobreta = vertex(\"Dobreta\", 242)\n",
        "  craiova = vertex(\"Craiova\", 160)\n",
        "  rimnicu = vertex(\"Rimnicu\", 193)\n",
        "  fagaras = vertex(\"Fagaras\", 176)\n",
        "  pitesti = vertex(\"Pitesti\", 98)\n",
        "  bucharest = vertex(\"Bucharest\", 0)\n",
        "  giurgiu = vertex(\"Giurgiu\", 77)\n",
        "  urziceni = vertex(\"Urziceni\", 80)\n",
        "  hirsova = vertex(\"Hirsova\", 151)\n",
        "  eforie = vertex(\"Eforie\", 161)\n",
        "  vaslui = vertex(\"Vaslui\", 199)\n",
        "  iasi = vertex(\"Iasi\", 226)\n",
        "  neamt = vertex(\"Neamt\", 234)\n",
        "  arad.add_adjacent(adjacent(zerind, 75))\n",
        "  arad.add_adjacent(adjacent(sibiu, 140))\n",
        "  arad.add_adjacent(adjacent(timisoara, 118))\n",
        "  zerind.add_adjacent(adjacent(arad, 75))\n",
        "  zerind.add_adjacent(adjacent(oradea, 71))\n",
        "  oradea.add_adjacent(adjacent(zerind, 71))\n",
        "  oradea.add_adjacent(adjacent(sibiu, 151))\n",
        "  sibiu.add_adjacent(adjacent(oradea, 151))\n",
        "  sibiu.add_adjacent(adjacent(arad, 140))\n",
        "  sibiu.add_adjacent(adjacent(fagaras, 99))\n",
        "  sibiu.add_adjacent(adjacent(rimnicu, 80))\n",
        "  timisoara.add_adjacent(adjacent(arad, 118))\n",
        "  timisoara.add_adjacent(adjacent(lugoj, 111))\n",
        "  lugoj.add_adjacent(adjacent(timisoara, 111))\n",
        "  lugoj.add_adjacent(adjacent(mehadia, 70))\n",
        "  mehadia.add_adjacent(adjacent(lugoj, 70))\n",
        "  mehadia.add_adjacent(adjacent(dobreta, 75))\n",
        "  dobreta.add_adjacent(adjacent(mehadia, 75))\n",
        "  dobreta.add_adjacent(adjacent(craiova, 120))\n",
        "  craiova.add_adjacent(adjacent(dobreta, 120))\n",
        "  craiova.add_adjacent(adjacent(pitesti, 138))\n",
        "  craiova.add_adjacent(adjacent(rimnicu, 146))\n",
        "  rimnicu.add_adjacent(adjacent(craiova, 146))\n",
        "  rimnicu.add_adjacent(adjacent(sibiu, 80))\n",
        "  rimnicu.add_adjacent(adjacent(pitesti, 97))\n",
        "  fagaras.add_adjacent(adjacent(sibiu, 99))\n",
        "  fagaras.add_adjacent(adjacent(bucharest, 211))\n",
        "  pitesti.add_adjacent(adjacent(rimnicu, 97))\n",
        "  pitesti.add_adjacent(adjacent(craiova, 138))\n",
        "  pitesti.add_adjacent(adjacent(bucharest, 101))\n",
        "  bucharest.add_adjacent(adjacent(fagaras, 211))\n",
        "  bucharest.add_adjacent(adjacent(pitesti, 101))\n",
        "  bucharest.add_adjacent(adjacent(urziceni, 85))\n",
        "  urziceni.add_adjacent(adjacent(bucharest, 85))\n",
        "  urziceni.add_adjacent(adjacent(hirsova, 98))\n",
        "  hirsova.add_adjacent(adjacent(urziceni, 98))\n",
        "  hirsova.add_adjacent(adjacent(eforie, 86))\n",
        "  eforie.add_adjacent(adjacent(hirsova, 86))\n",
        "  vaslui.add_adjacent(adjacent(iasi, 92))\n",
        "  iasi.add_adjacent(adjacent(vaslui, 92))\n",
        "  iasi.add_adjacent(adjacent(neamt, 87))\n",
        "  neamt.add_adjacent(adjacent(iasi, 87))\n",
        "  giurgiu.add_adjacent(adjacent(bucharest, 90))\n",
        ""
      ],
      "metadata": {
        "id": "_rgOvBmKPcfg"
      },
      "execution_count": 6,
      "outputs": []
    },
    {
      "cell_type": "code",
      "source": [
        "graph = graph()"
      ],
      "metadata": {
        "id": "Odh-llzqPgBW"
      },
      "execution_count": 12,
      "outputs": []
    },
    {
      "cell_type": "code",
      "source": [
        "import numpy as np\n",
        "class OrderedArray:\n",
        "  def __init__(self,capacity):\n",
        "    self.capacity=capacity\n",
        "    self.last_position = -1\n",
        "    self.values = np.empty(self.capacity,dtype=object)\n",
        "\n",
        "  def print(self):\n",
        "    if self.last_position == -1:\n",
        "      print('the array is empty')\n",
        "    else:\n",
        "      for i in range(self.last_position + 1):\n",
        "        print(i, ' - ', self.values[i].label, ' - ', self.values[i].distance_objective)\n",
        "\n",
        "  def insert(self, vertex):\n",
        "    if self.last_position == self.capacity - 1:\n",
        "      print('Maximum capacity has been reached!')\n",
        "      return\n",
        "\n",
        "    position = 0\n",
        "    for i in range(self.last_position + 1):\n",
        "      position = i\n",
        "      if vertex.distance_objective < self.values[i].distance_objective:\n",
        "        break\n",
        "      if i == self.last_position:\n",
        "        position = i + 1\n",
        "\n",
        "    x = self.last_position\n",
        "    while x >= position:\n",
        "      self.values[x + 1] = self.values[x]\n",
        "      x -= 1\n",
        "\n",
        "    self.values[x + 1] = vertex\n",
        "    self.last_position += 1\n",
        ""
      ],
      "metadata": {
        "id": "IvUBBsbKRHhU"
      },
      "execution_count": 13,
      "outputs": []
    },
    {
      "cell_type": "code",
      "source": [
        "array = OrderedArray(5)\n",
        "array.insert(graph.arad)\n",
        "array.insert(graph.craiova)\n",
        "array.insert(graph.zerind)\n",
        "array.insert(graph.oradea)\n",
        "array.insert(graph.sibiu)"
      ],
      "metadata": {
        "id": "wvwbfryVSXyB"
      },
      "execution_count": 17,
      "outputs": []
    },
    {
      "cell_type": "code",
      "source": [
        "array.print()"
      ],
      "metadata": {
        "colab": {
          "base_uri": "https://localhost:8080/"
        },
        "id": "7gmnFtF9Sf8e",
        "outputId": "60bf7d86-f974-4e9f-af6e-d5f199f3d255"
      },
      "execution_count": 19,
      "outputs": [
        {
          "output_type": "stream",
          "name": "stdout",
          "text": [
            "0  -  Craiova  -  160\n",
            "1  -  Sibiu  -  253\n",
            "2  -  Arad  -  366\n",
            "3  -  Zerind  -  374\n",
            "4  -  Oradea  -  380\n"
          ]
        }
      ]
    },
    {
      "cell_type": "code",
      "source": [
        "print(array), array.values[1].label"
      ],
      "metadata": {
        "colab": {
          "base_uri": "https://localhost:8080/"
        },
        "id": "aYMfc1LcS07p",
        "outputId": "3d8bff3f-f6f5-4c6e-9140-b783f3e18945"
      },
      "execution_count": 25,
      "outputs": [
        {
          "output_type": "stream",
          "name": "stdout",
          "text": [
            "<__main__.OrderedArray object at 0x786ebd3df690>\n"
          ]
        },
        {
          "output_type": "execute_result",
          "data": {
            "text/plain": [
              "(None, 'Sibiu')"
            ]
          },
          "metadata": {},
          "execution_count": 25
        }
      ]
    },
    {
      "cell_type": "code",
      "source": [],
      "metadata": {
        "id": "AT9dM0FWS5iW"
      },
      "execution_count": null,
      "outputs": []
    }
  ]
}