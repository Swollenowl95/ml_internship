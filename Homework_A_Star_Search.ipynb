{
  "nbformat": 4,
  "nbformat_minor": 0,
  "metadata": {
    "colab": {
      "provenance": [],
      "include_colab_link": true
    },
    "kernelspec": {
      "name": "python3",
      "display_name": "Python 3"
    }
  },
  "cells": [
    {
      "cell_type": "markdown",
      "metadata": {
        "id": "view-in-github",
        "colab_type": "text"
      },
      "source": [
        "<a href=\"https://colab.research.google.com/github/Swollenowl95/ml_internship/blob/main/Homework_A_Star_Search.ipynb\" target=\"_parent\"><img src=\"https://colab.research.google.com/assets/colab-badge.svg\" alt=\"Open In Colab\"/></a>"
      ]
    },
    {
      "cell_type": "markdown",
      "metadata": {
        "id": "r2ZZwVzmSD9w"
      },
      "source": [
        "# A* Star Search"
      ]
    },
    {
      "cell_type": "markdown",
      "metadata": {
        "id": "PgOWgXWsNWEr"
      },
      "source": [
        "## Graph"
      ]
    },
    {
      "cell_type": "code",
      "source": [
        "class Vertex:\n",
        "\n",
        "  def __init__(self, label, distance_objective):\n",
        "    self.label = label\n",
        "    self.visited = False\n",
        "    self.distance_objective = distance_objective\n",
        "    self.adjacent = []\n",
        "\n",
        "  def add_adjacent(self, adjacent):\n",
        "    self.adjacent.append(adjacent)\n",
        "\n",
        "  def print_adjacent(self):\n",
        "    for i in self.adjacent:\n",
        "      print(i.vertex.label, i.cost)"
      ],
      "metadata": {
        "id": "xQMzZLBfjGL9"
      },
      "execution_count": 1,
      "outputs": []
    },
    {
      "cell_type": "code",
      "source": [
        "class Adjacent:\n",
        "  def __init__(self, vertex, cost):\n",
        "    self.vertex = vertex\n",
        "    self.cost = cost\n",
        "    self.astar_distance = vertex.distance_objective + self.cost"
      ],
      "metadata": {
        "id": "oQlaCIdukpW0"
      },
      "execution_count": 2,
      "outputs": []
    },
    {
      "cell_type": "code",
      "source": [
        "class Graph:\n",
        "  portoUniao = Vertex(\"Porto União\", 203)\n",
        "  pauloFrontin = Vertex(\"Paulo Frontin\", 172)\n",
        "  canoinhas = Vertex(\"Canoinhas\", 141)\n",
        "  irati = Vertex(\"Irati\", 139)\n",
        "  palmeira = Vertex(\"Palmeira\", 59)\n",
        "  campoLargo = Vertex(\"Campo Largo\", 27)\n",
        "  curitiba = Vertex(\"Curitiba\", 0)\n",
        "  balsaNova = Vertex(\"Balsa Nova\", 41)\n",
        "  araucaria = Vertex(\"Araucária\", 23)\n",
        "  saoJose = Vertex(\"São José dos Pinhais\", 13)\n",
        "  contenda = Vertex(\"Contenda\", 39)\n",
        "  mafra = Vertex(\"Mafra\", 94)\n",
        "  tijucas = Vertex(\"Tijucas do Sul\", 56)\n",
        "  lapa = Vertex(\"Lapa\", 74)\n",
        "  saoMateus = Vertex(\"São Mateus do Sul\", 123)\n",
        "  tresBarras = Vertex(\"Três Barras\", 131)\n",
        "\n",
        "  portoUniao.add_adjacent(Adjacent(pauloFrontin, 46))\n",
        "  portoUniao.add_adjacent(Adjacent(canoinhas, 78))\n",
        "  portoUniao.add_adjacent(Adjacent(saoMateus, 87))\n",
        "\n",
        "  pauloFrontin.add_adjacent(Adjacent(portoUniao, 46))\n",
        "  pauloFrontin.add_adjacent(Adjacent(irati, 75))\n",
        "\n",
        "  canoinhas.add_adjacent(Adjacent(portoUniao, 78))\n",
        "  canoinhas.add_adjacent(Adjacent(tresBarras, 12))\n",
        "  canoinhas.add_adjacent(Adjacent(mafra, 66))\n",
        "\n",
        "  irati.add_adjacent(Adjacent(pauloFrontin, 75))\n",
        "  irati.add_adjacent(Adjacent(palmeira, 75))\n",
        "  irati.add_adjacent(Adjacent(saoMateus, 57))\n",
        "\n",
        "  palmeira.add_adjacent(Adjacent(irati, 75))\n",
        "  palmeira.add_adjacent(Adjacent(saoMateus, 77))\n",
        "  palmeira.add_adjacent(Adjacent(campoLargo, 55))\n",
        "\n",
        "  campoLargo.add_adjacent(Adjacent(palmeira, 55))\n",
        "  campoLargo.add_adjacent(Adjacent(balsaNova, 22))\n",
        "  campoLargo.add_adjacent(Adjacent(curitiba, 29))\n",
        "\n",
        "  curitiba.add_adjacent(Adjacent(campoLargo, 29))\n",
        "  curitiba.add_adjacent(Adjacent(balsaNova, 51))\n",
        "  curitiba.add_adjacent(Adjacent(araucaria, 37))\n",
        "  curitiba.add_adjacent(Adjacent(saoJose, 15))\n",
        "\n",
        "  balsaNova.add_adjacent(Adjacent(curitiba, 51))\n",
        "  balsaNova.add_adjacent(Adjacent(campoLargo, 22))\n",
        "  balsaNova.add_adjacent(Adjacent(contenda, 19))\n",
        "\n",
        "  araucaria.add_adjacent(Adjacent(curitiba, 37))\n",
        "  araucaria.add_adjacent(Adjacent(contenda, 18))\n",
        "\n",
        "  saoJose.add_adjacent(Adjacent(curitiba, 15))\n",
        "  saoJose.add_adjacent(Adjacent(tijucas, 49))\n",
        "\n",
        "  contenda.add_adjacent(Adjacent(balsaNova, 19))\n",
        "  contenda.add_adjacent(Adjacent(araucaria, 18))\n",
        "  contenda.add_adjacent(Adjacent(lapa, 26))\n",
        "\n",
        "  mafra.add_adjacent(Adjacent(tijucas, 99))\n",
        "  mafra.add_adjacent(Adjacent(lapa, 57))\n",
        "  mafra.add_adjacent(Adjacent(canoinhas, 66))\n",
        "\n",
        "  tijucas.add_adjacent(Adjacent(mafra, 99))\n",
        "  tijucas.add_adjacent(Adjacent(saoJose, 49))\n",
        "\n",
        "  lapa.add_adjacent(Adjacent(contenda, 26))\n",
        "  lapa.add_adjacent(Adjacent(saoMateus, 60))\n",
        "  lapa.add_adjacent(Adjacent(mafra, 57))\n",
        "\n",
        "  saoMateus.add_adjacent(Adjacent(palmeira, 77))\n",
        "  saoMateus.add_adjacent(Adjacent(irati, 57))\n",
        "  saoMateus.add_adjacent(Adjacent(lapa, 60))\n",
        "  saoMateus.add_adjacent(Adjacent(tresBarras, 43))\n",
        "  saoMateus.add_adjacent(Adjacent(portoUniao, 87))\n",
        "\n",
        "  tresBarras.add_adjacent(Adjacent(saoMateus, 43))\n",
        "  tresBarras.add_adjacent(Adjacent(canoinhas, 12))"
      ],
      "metadata": {
        "id": "igwHckmOk4ls"
      },
      "execution_count": 3,
      "outputs": []
    },
    {
      "cell_type": "code",
      "source": [
        "graph = Graph()"
      ],
      "metadata": {
        "id": "97egJt8_m5gV"
      },
      "execution_count": 4,
      "outputs": []
    },
    {
      "cell_type": "markdown",
      "metadata": {
        "id": "aIjre2EzLXB0"
      },
      "source": [
        "## Ordered array"
      ]
    },
    {
      "cell_type": "code",
      "source": [
        "import numpy as np\n",
        "class OrderedArray:\n",
        "\n",
        "  def __init__(self, capacity):\n",
        "    self.capacity = capacity\n",
        "    self.last_position = -1\n",
        "    self.values = np.empty(self.capacity, dtype=object)\n",
        "\n",
        "  def print(self):\n",
        "    if self.last_position == -1:\n",
        "      print('The array is empty!')\n",
        "    else:\n",
        "      for i in range(self.last_position + 1):\n",
        "        print(i, ' - ', self.values[i].vertex.label, ' - ',\n",
        "              self.values[i].cost, ' - ',\n",
        "              self.values[i].vertex.distance_objective, ' - ',\n",
        "              self.values[i].astar_distance)\n",
        "\n",
        "  def insert(self, adjacent):\n",
        "    if self.last_position == self.capacity - 1:\n",
        "      print('Maximum capacity has been reached!')\n",
        "      return\n",
        "\n",
        "    position = 0\n",
        "    for i in range(self.last_position + 1):\n",
        "      position = i\n",
        "      if self.values[i].astar_distance > adjacent.astar_distance:\n",
        "        break\n",
        "      if i == self.last_position:\n",
        "        position = i + 1\n",
        "\n",
        "    x = self.last_position\n",
        "    while x >= position:\n",
        "      self.values[x + 1] = self.values[x]\n",
        "      x -= 1\n",
        "\n",
        "    self.values[x + 1] = adjacent\n",
        "    self.last_position += 1"
      ],
      "metadata": {
        "id": "1t_wHOTJnF8h"
      },
      "execution_count": 5,
      "outputs": []
    },
    {
      "cell_type": "markdown",
      "metadata": {
        "id": "Lmvbw_KeNYvX"
      },
      "source": [
        "## A* Star Search"
      ]
    },
    {
      "cell_type": "code",
      "source": [
        "class AStar:\n",
        "  def __init__(self, objective):\n",
        "    self.objective = objective\n",
        "    self.found = False\n",
        "\n",
        "  def search(self, current):\n",
        "    print('--------')\n",
        "    print('Current: {}'.format(current.label))\n",
        "    current.visited = True\n",
        "\n",
        "    if current == self.objective:\n",
        "      self.foud = True\n",
        "    else:\n",
        "      ordered_array = OrderedArray(len(current.adjacent))\n",
        "      for adjacent in current.adjacent:\n",
        "        if adjacent.vertex.visited == False:\n",
        "          adjacent.vertex.visited = True\n",
        "          ordered_array.insert(adjacent)\n",
        "      ordered_array.print()\n",
        "\n",
        "      if ordered_array.values[0] != None:\n",
        "        self.search(ordered_array.values[0].vertex)"
      ],
      "metadata": {
        "id": "gN1sB37UEQcx"
      },
      "execution_count": 6,
      "outputs": []
    },
    {
      "cell_type": "code",
      "source": [
        "astar_search = AStar(graph.curitiba)\n",
        "astar_search.search(graph.portoUniao)"
      ],
      "metadata": {
        "colab": {
          "base_uri": "https://localhost:8080/"
        },
        "id": "j99hwn4pRgHl",
        "outputId": "d881a8b1-1217-4097-eeb1-9190e07279da"
      },
      "execution_count": 7,
      "outputs": [
        {
          "output_type": "stream",
          "name": "stdout",
          "text": [
            "--------\n",
            "Current: Porto União\n",
            "0  -  São Mateus do Sul  -  87  -  123  -  210\n",
            "1  -  Paulo Frontin  -  46  -  172  -  218\n",
            "2  -  Canoinhas  -  78  -  141  -  219\n",
            "--------\n",
            "Current: São Mateus do Sul\n",
            "0  -  Lapa  -  60  -  74  -  134\n",
            "1  -  Palmeira  -  77  -  59  -  136\n",
            "2  -  Três Barras  -  43  -  131  -  174\n",
            "3  -  Irati  -  57  -  139  -  196\n",
            "--------\n",
            "Current: Lapa\n",
            "0  -  Contenda  -  26  -  39  -  65\n",
            "1  -  Mafra  -  57  -  94  -  151\n",
            "--------\n",
            "Current: Contenda\n",
            "0  -  Araucária  -  18  -  23  -  41\n",
            "1  -  Balsa Nova  -  19  -  41  -  60\n",
            "--------\n",
            "Current: Araucária\n",
            "0  -  Curitiba  -  37  -  0  -  37\n",
            "--------\n",
            "Current: Curitiba\n"
          ]
        }
      ]
    },
    {
      "cell_type": "markdown",
      "source": [
        "228"
      ],
      "metadata": {
        "id": "X-7s29U7VEQ1"
      }
    }
  ]
}