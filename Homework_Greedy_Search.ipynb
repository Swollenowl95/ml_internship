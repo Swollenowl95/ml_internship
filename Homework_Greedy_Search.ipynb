{
  "nbformat": 4,
  "nbformat_minor": 0,
  "metadata": {
    "colab": {
      "provenance": [],
      "include_colab_link": true
    },
    "kernelspec": {
      "name": "python3",
      "display_name": "Python 3"
    }
  },
  "cells": [
    {
      "cell_type": "markdown",
      "metadata": {
        "id": "view-in-github",
        "colab_type": "text"
      },
      "source": [
        "<a href=\"https://colab.research.google.com/github/Swollenowl95/ml_internship/blob/main/Homework_Greedy_Search.ipynb\" target=\"_parent\"><img src=\"https://colab.research.google.com/assets/colab-badge.svg\" alt=\"Open In Colab\"/></a>"
      ]
    },
    {
      "cell_type": "markdown",
      "metadata": {
        "id": "r2ZZwVzmSD9w"
      },
      "source": [
        "# Greedy Search - homework"
      ]
    },
    {
      "cell_type": "markdown",
      "metadata": {
        "id": "PgOWgXWsNWEr"
      },
      "source": [
        "## Graph"
      ]
    },
    {
      "cell_type": "code",
      "source": [
        "class Vertex:\n",
        "\n",
        "  def __init__(self, label, distance_objective):\n",
        "    self.label = label\n",
        "    self.visited = False\n",
        "    self.distance_objective = distance_objective\n",
        "    self.adjacent = []\n",
        "\n",
        "  def add_adjacent(self, adjacent):\n",
        "    self.adjacent.append(adjacent)\n",
        "\n",
        "  def print_adjacent(self):\n",
        "    for i in self.adjacent:\n",
        "      print(i.vertex.label, i.cost)"
      ],
      "metadata": {
        "id": "xQMzZLBfjGL9"
      },
      "execution_count": null,
      "outputs": []
    },
    {
      "cell_type": "code",
      "source": [
        "class Adjacent:\n",
        "  def __init__(self, vertex, cost):\n",
        "    self.vertex = vertex\n",
        "    self.cost = cost"
      ],
      "metadata": {
        "id": "oQlaCIdukpW0"
      },
      "execution_count": null,
      "outputs": []
    },
    {
      "cell_type": "code",
      "source": [
        "class Graph:\n",
        "  portoUniao = Vertex(\"Porto União\", 203)\n",
        "  pauloFrontin = Vertex(\"Paulo Frontin\", 172)\n",
        "  canoinhas = Vertex(\"Canoinhas\", 141)\n",
        "  irati = Vertex(\"Irati\", 139)\n",
        "  palmeira = Vertex(\"Palmeira\", 59)\n",
        "  campoLargo = Vertex(\"Campo Largo\", 27)\n",
        "  curitiba = Vertex(\"Curitiba\", 0)\n",
        "  balsaNova = Vertex(\"Balsa Nova\", 41)\n",
        "  araucaria = Vertex(\"Araucária\", 23)\n",
        "  saoJose = Vertex(\"São José dos Pinhais\", 13)\n",
        "  contenda = Vertex(\"Contenda\", 39)\n",
        "  mafra = Vertex(\"Mafra\", 94)\n",
        "  tijucas = Vertex(\"Tijucas do Sul\", 56)\n",
        "  lapa = Vertex(\"Lapa\", 74)\n",
        "  saoMateus = Vertex(\"São Mateus do Sul\", 123)\n",
        "  tresBarras = Vertex(\"Três Barras\", 131)\n",
        "\n",
        "  portoUniao.add_adjacent(Adjacent(pauloFrontin, 46))\n",
        "  portoUniao.add_adjacent(Adjacent(canoinhas, 78))\n",
        "  portoUniao.add_adjacent(Adjacent(saoMateus, 87))\n",
        "\n",
        "  pauloFrontin.add_adjacent(Adjacent(portoUniao, 46))\n",
        "  pauloFrontin.add_adjacent(Adjacent(irati, 75))\n",
        "\n",
        "  canoinhas.add_adjacent(Adjacent(portoUniao, 78))\n",
        "  canoinhas.add_adjacent(Adjacent(tresBarras, 12))\n",
        "  canoinhas.add_adjacent(Adjacent(mafra, 66))\n",
        "\n",
        "  irati.add_adjacent(Adjacent(pauloFrontin, 75))\n",
        "  irati.add_adjacent(Adjacent(palmeira, 75))\n",
        "  irati.add_adjacent(Adjacent(saoMateus, 57))\n",
        "\n",
        "  palmeira.add_adjacent(Adjacent(irati, 75))\n",
        "  palmeira.add_adjacent(Adjacent(saoMateus, 77))\n",
        "  palmeira.add_adjacent(Adjacent(campoLargo, 55))\n",
        "\n",
        "  campoLargo.add_adjacent(Adjacent(palmeira, 55))\n",
        "  campoLargo.add_adjacent(Adjacent(balsaNova, 22))\n",
        "  campoLargo.add_adjacent(Adjacent(curitiba, 29))\n",
        "\n",
        "  curitiba.add_adjacent(Adjacent(campoLargo, 29))\n",
        "  curitiba.add_adjacent(Adjacent(balsaNova, 51))\n",
        "  curitiba.add_adjacent(Adjacent(araucaria, 37))\n",
        "  curitiba.add_adjacent(Adjacent(saoJose, 15))\n",
        "\n",
        "  balsaNova.add_adjacent(Adjacent(curitiba, 51))\n",
        "  balsaNova.add_adjacent(Adjacent(campoLargo, 22))\n",
        "  balsaNova.add_adjacent(Adjacent(contenda, 19))\n",
        "\n",
        "  araucaria.add_adjacent(Adjacent(curitiba, 37))\n",
        "  araucaria.add_adjacent(Adjacent(contenda, 18))\n",
        "\n",
        "  saoJose.add_adjacent(Adjacent(curitiba, 15))\n",
        "  saoJose.add_adjacent(Adjacent(tijucas, 49))\n",
        "\n",
        "  contenda.add_adjacent(Adjacent(balsaNova, 19))\n",
        "  contenda.add_adjacent(Adjacent(araucaria, 18))\n",
        "  contenda.add_adjacent(Adjacent(lapa, 26))\n",
        "\n",
        "  mafra.add_adjacent(Adjacent(tijucas, 99))\n",
        "  mafra.add_adjacent(Adjacent(lapa, 57))\n",
        "  mafra.add_adjacent(Adjacent(canoinhas, 66))\n",
        "\n",
        "  tijucas.add_adjacent(Adjacent(mafra, 99))\n",
        "  tijucas.add_adjacent(Adjacent(saoJose, 49))\n",
        "\n",
        "  lapa.add_adjacent(Adjacent(contenda, 26))\n",
        "  lapa.add_adjacent(Adjacent(saoMateus, 60))\n",
        "  lapa.add_adjacent(Adjacent(mafra, 57))\n",
        "\n",
        "  saoMateus.add_adjacent(Adjacent(palmeira, 77))\n",
        "  saoMateus.add_adjacent(Adjacent(irati, 57))\n",
        "  saoMateus.add_adjacent(Adjacent(lapa, 60))\n",
        "  saoMateus.add_adjacent(Adjacent(tresBarras, 43))\n",
        "  saoMateus.add_adjacent(Adjacent(portoUniao, 87))\n",
        "\n",
        "  tresBarras.add_adjacent(Adjacent(saoMateus, 43))\n",
        "  tresBarras.add_adjacent(Adjacent(canoinhas, 12))"
      ],
      "metadata": {
        "id": "igwHckmOk4ls"
      },
      "execution_count": null,
      "outputs": []
    },
    {
      "cell_type": "code",
      "source": [
        "graph = Graph()"
      ],
      "metadata": {
        "id": "97egJt8_m5gV"
      },
      "execution_count": null,
      "outputs": []
    },
    {
      "cell_type": "markdown",
      "metadata": {
        "id": "aIjre2EzLXB0"
      },
      "source": [
        "## Ordered array"
      ]
    },
    {
      "cell_type": "code",
      "source": [
        "import numpy as np\n",
        "class OrderedArray:\n",
        "\n",
        "  def __init__(self, capacity):\n",
        "    self.capacity = capacity\n",
        "    self.last_position = -1\n",
        "    self.values = np.empty(self.capacity, dtype=object)\n",
        "\n",
        "  def print(self):\n",
        "    if self.last_position == -1:\n",
        "      print('The array is empty!')\n",
        "    else:\n",
        "      for i in range(self.last_position + 1):\n",
        "        print(i, ' - ', self.values[i].label, ' - ', self.values[i].distance_objective)\n",
        "\n",
        "  def insert(self, vertex):\n",
        "    if self.last_position == self.capacity - 1:\n",
        "      print('Maximum capacity has been reached!')\n",
        "      return\n",
        "\n",
        "    position = 0\n",
        "    for i in range(self.last_position + 1):\n",
        "      position = i\n",
        "      if self.values[i].distance_objective > vertex.distance_objective:\n",
        "        break\n",
        "      if i == self.last_position:\n",
        "        position = i + 1\n",
        "\n",
        "    x = self.last_position\n",
        "    while x >= position:\n",
        "      self.values[x + 1] = self.values[x]\n",
        "      x -= 1\n",
        "\n",
        "    self.values[x + 1] = vertex\n",
        "    self.last_position += 1"
      ],
      "metadata": {
        "id": "1t_wHOTJnF8h"
      },
      "execution_count": null,
      "outputs": []
    },
    {
      "cell_type": "code",
      "source": [
        "array = OrderedArray(5)\n",
        "array.insert(graph.portoUniao)\n",
        "array.insert(graph.araucaria)\n",
        "array.insert(graph.curitiba)\n",
        "array.insert(graph.lapa)"
      ],
      "metadata": {
        "id": "WNzFfBMLoDQ6"
      },
      "execution_count": null,
      "outputs": []
    },
    {
      "cell_type": "code",
      "source": [
        "array.print()"
      ],
      "metadata": {
        "id": "b9NoXCndoLZb",
        "colab": {
          "base_uri": "https://localhost:8080/"
        },
        "outputId": "fce653d9-c235-4a0d-ccca-f05ca120ce5e"
      },
      "execution_count": null,
      "outputs": [
        {
          "output_type": "stream",
          "name": "stdout",
          "text": [
            "0  -  Curitiba  -  0\n",
            "1  -  Araucária  -  23\n",
            "2  -  Lapa  -  74\n",
            "3  -  Porto União  -  203\n"
          ]
        }
      ]
    },
    {
      "cell_type": "markdown",
      "metadata": {
        "id": "Lmvbw_KeNYvX"
      },
      "source": [
        "## Greedy search"
      ]
    },
    {
      "cell_type": "code",
      "source": [
        "class Greedy:\n",
        "  def __init__(self, objective):\n",
        "    self.objective = objective\n",
        "    self.found = False\n",
        "\n",
        "  def search(self, current):\n",
        "    print('--------')\n",
        "    print('Current: {}'.format(current.label))\n",
        "    current.visited = True\n",
        "\n",
        "    if current == self.objective:\n",
        "      self.found = True\n",
        "    else:\n",
        "      ordered_array = OrderedArray(len(current.adjacent))\n",
        "      for adjacent in current.adjacent:\n",
        "        if adjacent.vertex.visited == False:\n",
        "          adjacent.vertex.visited = True\n",
        "          ordered_array.insert(adjacent.vertex)\n",
        "      ordered_array.print()\n",
        "\n",
        "      if ordered_array.values[0] != None:\n",
        "        self.search(ordered_array.values[0])"
      ],
      "metadata": {
        "id": "i_0rYoNMr8ea"
      },
      "execution_count": null,
      "outputs": []
    },
    {
      "cell_type": "code",
      "source": [
        "greedy_search = Greedy(graph.curitiba)\n",
        "greedy_search.search(graph.portoUniao)"
      ],
      "metadata": {
        "id": "aTWf6kRpunst",
        "colab": {
          "base_uri": "https://localhost:8080/"
        },
        "outputId": "e8fe8f2d-1115-42a5-b921-5d4fe14eb7cb"
      },
      "execution_count": null,
      "outputs": [
        {
          "output_type": "stream",
          "name": "stdout",
          "text": [
            "--------\n",
            "Current: Porto União\n",
            "0  -  São Mateus do Sul  -  123\n",
            "1  -  Canoinhas  -  141\n",
            "2  -  Paulo Frontin  -  172\n",
            "--------\n",
            "Current: São Mateus do Sul\n",
            "0  -  Palmeira  -  59\n",
            "1  -  Lapa  -  74\n",
            "2  -  Três Barras  -  131\n",
            "3  -  Irati  -  139\n",
            "--------\n",
            "Current: Palmeira\n",
            "0  -  Campo Largo  -  27\n",
            "--------\n",
            "Current: Campo Largo\n",
            "0  -  Curitiba  -  0\n",
            "1  -  Balsa Nova  -  41\n",
            "--------\n",
            "Current: Curitiba\n"
          ]
        }
      ]
    },
    {
      "cell_type": "markdown",
      "source": [
        "248"
      ],
      "metadata": {
        "id": "p6v_CW_UT4Ld"
      }
    }
  ]
}